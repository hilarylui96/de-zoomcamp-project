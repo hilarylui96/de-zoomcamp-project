{
 "cells": [
  {
   "cell_type": "code",
   "execution_count": 1,
   "id": "4b7af862-a6df-4eee-96a4-8a202f0a3311",
   "metadata": {},
   "outputs": [],
   "source": [
    "from pyspark.sql import SparkSession\n",
    "from pyspark import SQLContext\n",
    "from pyspark.sql import functions as F\n",
    "from pyspark.sql import types as T\n",
    "from datetime import datetime\n",
    "from pyspark.sql.functions import col"
   ]
  },
  {
   "cell_type": "code",
   "execution_count": 2,
   "id": "37249278-c8e6-4675-aa2a-3b907ca464ab",
   "metadata": {},
   "outputs": [
    {
     "name": "stderr",
     "output_type": "stream",
     "text": [
      "Setting default log level to \"WARN\".\n",
      "To adjust logging level use sc.setLogLevel(newLevel). For SparkR, use setLogLevel(newLevel).\n",
      "25/03/29 16:38:10 WARN NativeCodeLoader: Unable to load native-hadoop library for your platform... using builtin-java classes where applicable\n",
      "25/03/29 16:38:21 WARN GarbageCollectionMetrics: To enable non-built-in garbage collector(s) List(G1 Concurrent GC), users should configure it(them) to spark.eventLog.gcMetrics.youngGenerationGarbageCollectors or spark.eventLog.gcMetrics.oldGenerationGarbageCollectors\n"
     ]
    }
   ],
   "source": [
    "  spark = SparkSession.builder \\\n",
    "    .appName(\"DataProcessing\") \\\n",
    "    .getOrCreate()"
   ]
  },
  {
   "cell_type": "code",
   "execution_count": 95,
   "id": "4172ec6c-a052-4350-ab1e-8768c5b3c259",
   "metadata": {},
   "outputs": [],
   "source": [
    "geometry_schema = T.StructType(\n",
    "      [\n",
    "        T.StructField(\"coordinates\", T.ArrayType(  \n",
    "            T.ArrayType(                         \n",
    "                T.ArrayType(T.DoubleType())        \n",
    "            )\n",
    "        ), True),\n",
    "        T.StructField(\"type\", T.StringType(), True),\n",
    "      ])"
   ]
  },
  {
   "cell_type": "code",
   "execution_count": 117,
   "id": "e8886d4c-b373-4527-8915-ee7bd823142b",
   "metadata": {},
   "outputs": [],
   "source": [
    "properties_schema = T.StructType([\n",
    "      # T.StructField(\"@id\", T.StringType(), True),\n",
    "      # T.StructField(\"@type\", T.StringType(), True),\n",
    "      T.StructField(\"affectedZones\", T.ArrayType(T.StringType()), True),\n",
    "      T.StructField(\"areaDesc\", T.StringType(), True),\n",
    "      T.StructField(\"category\", T.StringType(), True),\n",
    "      T.StructField(\"certainty\", T.StringType(), True),\n",
    "      T.StructField(\"description\", T.StringType(), True),\n",
    "      T.StructField(\"effective\", T.StringType(), True),\n",
    "      T.StructField(\"ends\", T.StringType(), True),\n",
    "      T.StructField(\"event\", T.StringType(), True),\n",
    "      T.StructField(\"expires\", T.StringType(), True),\n",
    "      # T.StructField(\"geocode\", T.StructType([\n",
    "      #     T.StructField(\"SAME\", T.ArrayType(T.StringType()), True),\n",
    "      #     T.StructField(\"UGC\", T.ArrayType(T.StringType()), True),\n",
    "      # ]), True),\n",
    "      T.StructField(\"headline\", T.StringType(), True),\n",
    "      T.StructField(\"id\", T.StringType(), True),\n",
    "      T.StructField(\"instruction\", T.StringType(), True),\n",
    "      T.StructField(\"messageType\", T.StringType(), True),\n",
    "      T.StructField(\"onset\", T.StringType(), True),\n",
    "      # T.StructField(\"parameters\", T.StructType([\n",
    "      #     T.StructField(\"AWIPSidentifier\", T.ArrayType(T.StringType()), True),\n",
    "      #     T.StructField(\"BLOCKCHANNEL\", T.ArrayType(T.StringType()), True),\n",
    "      #     T.StructField(\"CMAMlongtext\", T.ArrayType(T.StringType()), True),\n",
    "      #     T.StructField(\"CMAMtext\", T.ArrayType(T.StringType()), True),\n",
    "      #     T.StructField(\"EAS-ORG\", T.ArrayType(T.StringType()), True),\n",
    "      #     T.StructField(\"NWSheadline\", T.ArrayType(T.StringType()), True),\n",
    "      #     T.StructField(\"VTEC\", T.ArrayType(T.StringType()), True),\n",
    "      #     T.StructField(\"WEAHandling\", T.ArrayType(T.StringType()), True),\n",
    "      #     T.StructField(\"WMOidentifier\", T.ArrayType(T.StringType()), True),\n",
    "      #     T.StructField(\"eventEndingTime\", T.ArrayType(T.StringType()), True),\n",
    "      #     T.StructField(\"eventMotionDescription\", T.ArrayType(T.StringType()), True),\n",
    "      #     T.StructField(\"expiredReferences\", T.ArrayType(T.StringType()), True),\n",
    "      #     T.StructField(\"flashFloodDetection\", T.ArrayType(T.StringType()), True),\n",
    "      #     T.StructField(\"hailThreat\", T.ArrayType(T.StringType()), True),\n",
    "      #     T.StructField(\"maxHailSize\", T.ArrayType(T.StringType()), True),\n",
    "      #     T.StructField(\"maxWindGust\", T.ArrayType(T.StringType()), True),\n",
    "      #     T.StructField(\"thunderstormDamageThreat\", T.ArrayType(T.StringType()), True),\n",
    "      #     T.StructField(\"timezone\", T.ArrayType(T.StringType()), True),\n",
    "      #     T.StructField(\"tornadoDetection\", T.ArrayType(T.StringType()), True),\n",
    "      #     T.StructField(\"windThreat\", T.ArrayType(T.StringType()), True),\n",
    "      # ]), True),\n",
    "      # T.StructField(\"references\", T.ArrayType(T.StructType([\n",
    "      #     # T.StructField(\"@id\", T.StringType(), True),\n",
    "      #     T.StructField(\"identifier\", T.StringType(), True),\n",
    "      #     T.StructField(\"sender\", T.StringType(), True),\n",
    "      #     T.StructField(\"sent\", T.StringType(), True),\n",
    "      # ])), True),\n",
    "\n",
    "      T.StructField(\"replacedAt\", T.StringType(), True),\n",
    "      T.StructField(\"replacedBy\", T.StringType(), True),\n",
    "      T.StructField(\"response\", T.StringType(), True),\n",
    "      T.StructField(\"sender\", T.StringType(), True),\n",
    "      T.StructField(\"senderName\", T.StringType(), True),\n",
    "      T.StructField(\"sent\", T.StringType(), True),\n",
    "      T.StructField(\"severity\", T.StringType(), True),\n",
    "      T.StructField(\"status\", T.StringType(), True),\n",
    "      T.StructField(\"urgency\", T.StringType(), True),\n",
    "    ])"
   ]
  },
  {
   "cell_type": "code",
   "execution_count": 118,
   "id": "b7d71fc6-633b-4dde-b25c-821889704023",
   "metadata": {},
   "outputs": [],
   "source": [
    "  data_schema = T.StructType([\n",
    "      T.StructField(\"geometry\", geometry_schema, True),\n",
    "      T.StructField(\"id\", T.StringType(), True),\n",
    "      T.StructField(\"properties\", properties_schema, True),\n",
    "      T.StructField(\"type\", T.StringType(), True),\n",
    "  ])"
   ]
  },
  {
   "cell_type": "code",
   "execution_count": 126,
   "id": "10a141e4-26b4-4766-87b2-12349995bd0b",
   "metadata": {},
   "outputs": [],
   "source": [
    "  df = spark.read \\\n",
    "    .option(\"multiline\", \"true\") \\\n",
    "    .schema(data_schema) \\\n",
    "    .json(f\"data/raw_json/2025-03-29.json\")"
   ]
  },
  {
   "cell_type": "code",
   "execution_count": 127,
   "id": "2ead8d4e-8c4a-4025-b038-9bcb88f224e4",
   "metadata": {},
   "outputs": [],
   "source": [
    "\n",
    "def coords_to_wkt(geom_type, coords):\n",
    "    if geom_type == \"Polygon\":\n",
    "        # Flatten into \"x y, x y, ...\"\n",
    "        if coords and isinstance(coords, list):\n",
    "            rings = []\n",
    "            for ring in coords:\n",
    "                ring_str = \", \".join([f\"{lon} {lat}\" for lon, lat in ring])\n",
    "                rings.append(f\"({ring_str})\")\n",
    "            return f\"POLYGON({', '.join(rings)})\"\n",
    "    return None"
   ]
  },
  {
   "cell_type": "code",
   "execution_count": 128,
   "id": "2920f9ca-d56a-47de-b5de-cc0fabb4d1ca",
   "metadata": {},
   "outputs": [],
   "source": [
    "wkt_udf = F.udf(coords_to_wkt, T.StringType())"
   ]
  },
  {
   "cell_type": "code",
   "execution_count": 132,
   "id": "f8fa35ad-1d41-48ae-84bf-00b74af806f9",
   "metadata": {},
   "outputs": [
    {
     "ename": "AnalysisException",
     "evalue": "[INVALID_EXTRACT_BASE_FIELD_TYPE] Can't extract a value from \"namedlambdavariable()\". Need a complex type [STRUCT, ARRAY, MAP] but got \"STRING\".",
     "output_type": "error",
     "traceback": [
      "\u001b[31m---------------------------------------------------------------------------\u001b[39m",
      "\u001b[31mAnalysisException\u001b[39m                         Traceback (most recent call last)",
      "\u001b[36mCell\u001b[39m\u001b[36m \u001b[39m\u001b[32mIn[132]\u001b[39m\u001b[32m, line 3\u001b[39m\n\u001b[32m      1\u001b[39m df = \u001b[43mdf\u001b[49m\u001b[43m \u001b[49m\u001b[43m\\\u001b[49m\n\u001b[32m      2\u001b[39m \u001b[43m    \u001b[49m\u001b[43m.\u001b[49m\u001b[43mwithColumn\u001b[49m\u001b[43m(\u001b[49m\u001b[33;43m\"\u001b[39;49m\u001b[33;43mgeometry_wkt\u001b[39;49m\u001b[33;43m\"\u001b[39;49m\u001b[43m,\u001b[49m\u001b[43m \u001b[49m\u001b[43mwkt_udf\u001b[49m\u001b[43m(\u001b[49m\u001b[33;43m\"\u001b[39;49m\u001b[33;43mgeometry.type\u001b[39;49m\u001b[33;43m\"\u001b[39;49m\u001b[43m,\u001b[49m\u001b[43m \u001b[49m\u001b[33;43m\"\u001b[39;49m\u001b[33;43mgeometry.coordinates\u001b[39;49m\u001b[33;43m\"\u001b[39;49m\u001b[43m)\u001b[49m\u001b[43m)\u001b[49m\u001b[43m \u001b[49m\u001b[43m\\\u001b[49m\n\u001b[32m----> \u001b[39m\u001b[32m3\u001b[39m \u001b[43m    \u001b[49m\u001b[43m.\u001b[49m\u001b[43mwithColumn\u001b[49m\u001b[43m(\u001b[49m\u001b[33;43m\"\u001b[39;49m\u001b[33;43maffectedZones\u001b[39;49m\u001b[33;43m\"\u001b[39;49m\u001b[43m,\u001b[49m\u001b[43m  \u001b[49m\u001b[43mF\u001b[49m\u001b[43m.\u001b[49m\u001b[43mexpr\u001b[49m\u001b[43m(\u001b[49m\u001b[33;43m\"\u001b[39;49m\u001b[33;43mtransform(properties.affectedZones, x -> x.element)\u001b[39;49m\u001b[33;43m\"\u001b[39;49m\u001b[43m)\u001b[49m\u001b[43m)\u001b[49m \\\n\u001b[32m      4\u001b[39m     .withColumn(\u001b[33m\"\u001b[39m\u001b[33mareaDesc\u001b[39m\u001b[33m\"\u001b[39m, col(\u001b[33m\"\u001b[39m\u001b[33mproperties.areaDesc\u001b[39m\u001b[33m\"\u001b[39m)) \\\n\u001b[32m      5\u001b[39m     .withColumn(\u001b[33m\"\u001b[39m\u001b[33mcategory\u001b[39m\u001b[33m\"\u001b[39m, col(\u001b[33m\"\u001b[39m\u001b[33mproperties.category\u001b[39m\u001b[33m\"\u001b[39m)) \\\n\u001b[32m      6\u001b[39m     .withColumn(\u001b[33m\"\u001b[39m\u001b[33mcertainty\u001b[39m\u001b[33m\"\u001b[39m, col(\u001b[33m\"\u001b[39m\u001b[33mproperties.certainty\u001b[39m\u001b[33m\"\u001b[39m)) \\\n\u001b[32m      7\u001b[39m     .withColumn(\u001b[33m\"\u001b[39m\u001b[33mdescription\u001b[39m\u001b[33m\"\u001b[39m, col(\u001b[33m\"\u001b[39m\u001b[33mproperties.description\u001b[39m\u001b[33m\"\u001b[39m)) \\\n\u001b[32m      8\u001b[39m     .withColumn(\u001b[33m\"\u001b[39m\u001b[33meffective\u001b[39m\u001b[33m\"\u001b[39m, F.to_timestamp(col(\u001b[33m\"\u001b[39m\u001b[33mproperties.effective\u001b[39m\u001b[33m\"\u001b[39m))) \\\n\u001b[32m      9\u001b[39m     .withColumn(\u001b[33m\"\u001b[39m\u001b[33mends\u001b[39m\u001b[33m\"\u001b[39m,  F.to_timestamp(col(\u001b[33m\"\u001b[39m\u001b[33mproperties.ends\u001b[39m\u001b[33m\"\u001b[39m))) \\\n\u001b[32m     10\u001b[39m     .withColumn(\u001b[33m\"\u001b[39m\u001b[33mevent\u001b[39m\u001b[33m\"\u001b[39m, col(\u001b[33m\"\u001b[39m\u001b[33mproperties.event\u001b[39m\u001b[33m\"\u001b[39m)) \\\n\u001b[32m     11\u001b[39m     .withColumn(\u001b[33m\"\u001b[39m\u001b[33mexpires\u001b[39m\u001b[33m\"\u001b[39m,  F.to_timestamp(col(\u001b[33m\"\u001b[39m\u001b[33mproperties.expires\u001b[39m\u001b[33m\"\u001b[39m))) \\\n\u001b[32m     12\u001b[39m     .withColumn(\u001b[33m\"\u001b[39m\u001b[33mheadline\u001b[39m\u001b[33m\"\u001b[39m, col(\u001b[33m\"\u001b[39m\u001b[33mproperties.headline\u001b[39m\u001b[33m\"\u001b[39m)) \\\n\u001b[32m     13\u001b[39m     .withColumn(\u001b[33m\"\u001b[39m\u001b[33mid\u001b[39m\u001b[33m\"\u001b[39m, col(\u001b[33m\"\u001b[39m\u001b[33mproperties.id\u001b[39m\u001b[33m\"\u001b[39m)) \\\n\u001b[32m     14\u001b[39m     .withColumn(\u001b[33m\"\u001b[39m\u001b[33minstruction\u001b[39m\u001b[33m\"\u001b[39m, col(\u001b[33m\"\u001b[39m\u001b[33mproperties.instruction\u001b[39m\u001b[33m\"\u001b[39m)) \\\n\u001b[32m     15\u001b[39m     .withColumn(\u001b[33m\"\u001b[39m\u001b[33mmessageType\u001b[39m\u001b[33m\"\u001b[39m, col(\u001b[33m\"\u001b[39m\u001b[33mproperties.messageType\u001b[39m\u001b[33m\"\u001b[39m)) \\\n\u001b[32m     16\u001b[39m     .withColumn(\u001b[33m\"\u001b[39m\u001b[33monset\u001b[39m\u001b[33m\"\u001b[39m, col(\u001b[33m\"\u001b[39m\u001b[33mproperties.onset\u001b[39m\u001b[33m\"\u001b[39m)) \\\n\u001b[32m     17\u001b[39m     .withColumn(\u001b[33m\"\u001b[39m\u001b[33mreplacedAt\u001b[39m\u001b[33m\"\u001b[39m,  F.to_timestamp(col(\u001b[33m\"\u001b[39m\u001b[33mproperties.replacedAt\u001b[39m\u001b[33m\"\u001b[39m))) \\\n\u001b[32m     18\u001b[39m     .withColumn(\u001b[33m\"\u001b[39m\u001b[33mreplacedBy\u001b[39m\u001b[33m\"\u001b[39m,  col(\u001b[33m\"\u001b[39m\u001b[33mproperties.replacedBy\u001b[39m\u001b[33m\"\u001b[39m)) \\\n\u001b[32m     19\u001b[39m     .withColumn(\u001b[33m\"\u001b[39m\u001b[33mresponse\u001b[39m\u001b[33m\"\u001b[39m, col(\u001b[33m\"\u001b[39m\u001b[33mproperties.response\u001b[39m\u001b[33m\"\u001b[39m)) \\\n\u001b[32m     20\u001b[39m     .withColumn(\u001b[33m\"\u001b[39m\u001b[33msender\u001b[39m\u001b[33m\"\u001b[39m, col(\u001b[33m\"\u001b[39m\u001b[33mproperties.sender\u001b[39m\u001b[33m\"\u001b[39m)) \\\n\u001b[32m     21\u001b[39m     .withColumn(\u001b[33m\"\u001b[39m\u001b[33msenderName\u001b[39m\u001b[33m\"\u001b[39m, col(\u001b[33m\"\u001b[39m\u001b[33mproperties.senderName\u001b[39m\u001b[33m\"\u001b[39m)) \\\n\u001b[32m     22\u001b[39m     .withColumn(\u001b[33m\"\u001b[39m\u001b[33msent\u001b[39m\u001b[33m\"\u001b[39m,  F.to_timestamp(col(\u001b[33m\"\u001b[39m\u001b[33mproperties.sent\u001b[39m\u001b[33m\"\u001b[39m))) \\\n\u001b[32m     23\u001b[39m     .withColumn(\u001b[33m\"\u001b[39m\u001b[33mseverity\u001b[39m\u001b[33m\"\u001b[39m, col(\u001b[33m\"\u001b[39m\u001b[33mproperties.severity\u001b[39m\u001b[33m\"\u001b[39m)) \\\n\u001b[32m     24\u001b[39m     .withColumn(\u001b[33m\"\u001b[39m\u001b[33mstatus\u001b[39m\u001b[33m\"\u001b[39m, col(\u001b[33m\"\u001b[39m\u001b[33mproperties.status\u001b[39m\u001b[33m\"\u001b[39m)) \\\n\u001b[32m     25\u001b[39m     .withColumn(\u001b[33m\"\u001b[39m\u001b[33murgency\u001b[39m\u001b[33m\"\u001b[39m, col(\u001b[33m\"\u001b[39m\u001b[33mproperties.urgency\u001b[39m\u001b[33m\"\u001b[39m)) \\\n\u001b[32m     26\u001b[39m     .drop(\u001b[33m\"\u001b[39m\u001b[33mgeometry\u001b[39m\u001b[33m\"\u001b[39m) \\\n\u001b[32m     27\u001b[39m     .drop(\u001b[33m\"\u001b[39m\u001b[33mproperties\u001b[39m\u001b[33m\"\u001b[39m)\n",
      "\u001b[36mFile \u001b[39m\u001b[32m~/Desktop/Data Engineering/de-zoomcamp-project/myenv/lib/python3.13/site-packages/pyspark/sql/dataframe.py:5176\u001b[39m, in \u001b[36mDataFrame.withColumn\u001b[39m\u001b[34m(self, colName, col)\u001b[39m\n\u001b[32m   5171\u001b[39m \u001b[38;5;28;01mif\u001b[39;00m \u001b[38;5;129;01mnot\u001b[39;00m \u001b[38;5;28misinstance\u001b[39m(col, Column):\n\u001b[32m   5172\u001b[39m     \u001b[38;5;28;01mraise\u001b[39;00m PySparkTypeError(\n\u001b[32m   5173\u001b[39m         error_class=\u001b[33m\"\u001b[39m\u001b[33mNOT_COLUMN\u001b[39m\u001b[33m\"\u001b[39m,\n\u001b[32m   5174\u001b[39m         message_parameters={\u001b[33m\"\u001b[39m\u001b[33marg_name\u001b[39m\u001b[33m\"\u001b[39m: \u001b[33m\"\u001b[39m\u001b[33mcol\u001b[39m\u001b[33m\"\u001b[39m, \u001b[33m\"\u001b[39m\u001b[33marg_type\u001b[39m\u001b[33m\"\u001b[39m: \u001b[38;5;28mtype\u001b[39m(col).\u001b[34m__name__\u001b[39m},\n\u001b[32m   5175\u001b[39m     )\n\u001b[32m-> \u001b[39m\u001b[32m5176\u001b[39m \u001b[38;5;28;01mreturn\u001b[39;00m DataFrame(\u001b[38;5;28;43mself\u001b[39;49m\u001b[43m.\u001b[49m\u001b[43m_jdf\u001b[49m\u001b[43m.\u001b[49m\u001b[43mwithColumn\u001b[49m\u001b[43m(\u001b[49m\u001b[43mcolName\u001b[49m\u001b[43m,\u001b[49m\u001b[43m \u001b[49m\u001b[43mcol\u001b[49m\u001b[43m.\u001b[49m\u001b[43m_jc\u001b[49m\u001b[43m)\u001b[49m, \u001b[38;5;28mself\u001b[39m.sparkSession)\n",
      "\u001b[36mFile \u001b[39m\u001b[32m~/Desktop/Data Engineering/de-zoomcamp-project/myenv/lib/python3.13/site-packages/py4j/java_gateway.py:1322\u001b[39m, in \u001b[36mJavaMember.__call__\u001b[39m\u001b[34m(self, *args)\u001b[39m\n\u001b[32m   1316\u001b[39m command = proto.CALL_COMMAND_NAME +\\\n\u001b[32m   1317\u001b[39m     \u001b[38;5;28mself\u001b[39m.command_header +\\\n\u001b[32m   1318\u001b[39m     args_command +\\\n\u001b[32m   1319\u001b[39m     proto.END_COMMAND_PART\n\u001b[32m   1321\u001b[39m answer = \u001b[38;5;28mself\u001b[39m.gateway_client.send_command(command)\n\u001b[32m-> \u001b[39m\u001b[32m1322\u001b[39m return_value = \u001b[43mget_return_value\u001b[49m\u001b[43m(\u001b[49m\n\u001b[32m   1323\u001b[39m \u001b[43m    \u001b[49m\u001b[43manswer\u001b[49m\u001b[43m,\u001b[49m\u001b[43m \u001b[49m\u001b[38;5;28;43mself\u001b[39;49m\u001b[43m.\u001b[49m\u001b[43mgateway_client\u001b[49m\u001b[43m,\u001b[49m\u001b[43m \u001b[49m\u001b[38;5;28;43mself\u001b[39;49m\u001b[43m.\u001b[49m\u001b[43mtarget_id\u001b[49m\u001b[43m,\u001b[49m\u001b[43m \u001b[49m\u001b[38;5;28;43mself\u001b[39;49m\u001b[43m.\u001b[49m\u001b[43mname\u001b[49m\u001b[43m)\u001b[49m\n\u001b[32m   1325\u001b[39m \u001b[38;5;28;01mfor\u001b[39;00m temp_arg \u001b[38;5;129;01min\u001b[39;00m temp_args:\n\u001b[32m   1326\u001b[39m     \u001b[38;5;28;01mif\u001b[39;00m \u001b[38;5;28mhasattr\u001b[39m(temp_arg, \u001b[33m\"\u001b[39m\u001b[33m_detach\u001b[39m\u001b[33m\"\u001b[39m):\n",
      "\u001b[36mFile \u001b[39m\u001b[32m~/Desktop/Data Engineering/de-zoomcamp-project/myenv/lib/python3.13/site-packages/pyspark/errors/exceptions/captured.py:185\u001b[39m, in \u001b[36mcapture_sql_exception.<locals>.deco\u001b[39m\u001b[34m(*a, **kw)\u001b[39m\n\u001b[32m    181\u001b[39m converted = convert_exception(e.java_exception)\n\u001b[32m    182\u001b[39m \u001b[38;5;28;01mif\u001b[39;00m \u001b[38;5;129;01mnot\u001b[39;00m \u001b[38;5;28misinstance\u001b[39m(converted, UnknownException):\n\u001b[32m    183\u001b[39m     \u001b[38;5;66;03m# Hide where the exception came from that shows a non-Pythonic\u001b[39;00m\n\u001b[32m    184\u001b[39m     \u001b[38;5;66;03m# JVM exception message.\u001b[39;00m\n\u001b[32m--> \u001b[39m\u001b[32m185\u001b[39m     \u001b[38;5;28;01mraise\u001b[39;00m converted \u001b[38;5;28;01mfrom\u001b[39;00m\u001b[38;5;250m \u001b[39m\u001b[38;5;28;01mNone\u001b[39;00m\n\u001b[32m    186\u001b[39m \u001b[38;5;28;01melse\u001b[39;00m:\n\u001b[32m    187\u001b[39m     \u001b[38;5;28;01mraise\u001b[39;00m\n",
      "\u001b[31mAnalysisException\u001b[39m: [INVALID_EXTRACT_BASE_FIELD_TYPE] Can't extract a value from \"namedlambdavariable()\". Need a complex type [STRUCT, ARRAY, MAP] but got \"STRING\"."
     ]
    }
   ],
   "source": [
    "df = df \\\n",
    "    .withColumn(\"geometry_wkt\", wkt_udf(\"geometry.type\", \"geometry.coordinates\")) \\\n",
    "    .withColumn(\"affectedZones\",  F.expr(\"transform(properties.affectedZones, x -> x.element)\")) \\\n",
    "    .withColumn(\"areaDesc\", col(\"properties.areaDesc\")) \\\n",
    "    .withColumn(\"category\", col(\"properties.category\")) \\\n",
    "    .withColumn(\"certainty\", col(\"properties.certainty\")) \\\n",
    "    .withColumn(\"description\", col(\"properties.description\")) \\\n",
    "    .withColumn(\"effective\", F.to_timestamp(col(\"properties.effective\"))) \\\n",
    "    .withColumn(\"ends\",  F.to_timestamp(col(\"properties.ends\"))) \\\n",
    "    .withColumn(\"event\", col(\"properties.event\")) \\\n",
    "    .withColumn(\"expires\",  F.to_timestamp(col(\"properties.expires\"))) \\\n",
    "    .withColumn(\"headline\", col(\"properties.headline\")) \\\n",
    "    .withColumn(\"id\", col(\"properties.id\")) \\\n",
    "    .withColumn(\"instruction\", col(\"properties.instruction\")) \\\n",
    "    .withColumn(\"messageType\", col(\"properties.messageType\")) \\\n",
    "    .withColumn(\"onset\", col(\"properties.onset\")) \\\n",
    "    .withColumn(\"replacedAt\",  F.to_timestamp(col(\"properties.replacedAt\"))) \\\n",
    "    .withColumn(\"replacedBy\",  col(\"properties.replacedBy\")) \\\n",
    "    .withColumn(\"response\", col(\"properties.response\")) \\\n",
    "    .withColumn(\"sender\", col(\"properties.sender\")) \\\n",
    "    .withColumn(\"senderName\", col(\"properties.senderName\")) \\\n",
    "    .withColumn(\"sent\",  F.to_timestamp(col(\"properties.sent\"))) \\\n",
    "    .withColumn(\"severity\", col(\"properties.severity\")) \\\n",
    "    .withColumn(\"status\", col(\"properties.status\")) \\\n",
    "    .withColumn(\"urgency\", col(\"properties.urgency\")) \\\n",
    "    .drop(\"geometry\") \\\n",
    "    .drop(\"properties\")"
   ]
  },
  {
   "cell_type": "code",
   "execution_count": 123,
   "id": "ab88131a-9afc-49b8-950c-7482ca193afc",
   "metadata": {},
   "outputs": [],
   "source": [
    "df_test = df.head(10)"
   ]
  },
  {
   "cell_type": "code",
   "execution_count": 124,
   "id": "53faf451-495c-4066-86c2-aee3d647cf1c",
   "metadata": {},
   "outputs": [
    {
     "name": "stdout",
     "output_type": "stream",
     "text": [
      "+--------------------+\n",
      "|       affectedZones|\n",
      "+--------------------+\n",
      "|[https://api.weat...|\n",
      "|[https://api.weat...|\n",
      "|[https://api.weat...|\n",
      "|[https://api.weat...|\n",
      "|[https://api.weat...|\n",
      "|[https://api.weat...|\n",
      "|[https://api.weat...|\n",
      "|[https://api.weat...|\n",
      "|[https://api.weat...|\n",
      "|[https://api.weat...|\n",
      "|[https://api.weat...|\n",
      "|[https://api.weat...|\n",
      "|[https://api.weat...|\n",
      "|[https://api.weat...|\n",
      "|[https://api.weat...|\n",
      "|[https://api.weat...|\n",
      "|[https://api.weat...|\n",
      "|[https://api.weat...|\n",
      "|[https://api.weat...|\n",
      "|[https://api.weat...|\n",
      "+--------------------+\n",
      "only showing top 20 rows\n",
      "\n"
     ]
    }
   ],
   "source": [
    "df_test = df.select(\"affectedZones\").show()"
   ]
  },
  {
   "cell_type": "code",
   "execution_count": 125,
   "id": "f4163d1b-d2b3-481f-9d85-1302b134dddc",
   "metadata": {},
   "outputs": [
    {
     "name": "stdout",
     "output_type": "stream",
     "text": [
      "root\n",
      " |-- id: string (nullable = true)\n",
      " |-- type: string (nullable = true)\n",
      " |-- geometry_wkt: string (nullable = true)\n",
      " |-- affectedZones: array (nullable = true)\n",
      " |    |-- element: string (containsNull = true)\n",
      " |-- areaDesc: string (nullable = true)\n",
      " |-- category: string (nullable = true)\n",
      " |-- certainty: string (nullable = true)\n",
      " |-- description: string (nullable = true)\n",
      " |-- effective: timestamp (nullable = true)\n",
      " |-- ends: timestamp (nullable = true)\n",
      " |-- event: string (nullable = true)\n",
      " |-- expires: timestamp (nullable = true)\n",
      " |-- headline: string (nullable = true)\n",
      " |-- instruction: string (nullable = true)\n",
      " |-- messageType: string (nullable = true)\n",
      " |-- onset: string (nullable = true)\n",
      " |-- replacedAt: timestamp (nullable = true)\n",
      " |-- replacedBy: string (nullable = true)\n",
      " |-- response: string (nullable = true)\n",
      " |-- sender: string (nullable = true)\n",
      " |-- senderName: string (nullable = true)\n",
      " |-- sent: timestamp (nullable = true)\n",
      " |-- severity: string (nullable = true)\n",
      " |-- status: string (nullable = true)\n",
      " |-- urgency: string (nullable = true)\n",
      "\n"
     ]
    }
   ],
   "source": [
    "df.printSchema()"
   ]
  },
  {
   "cell_type": "code",
   "execution_count": null,
   "id": "599c2a6c-9e73-4282-9df2-2467225a0be6",
   "metadata": {},
   "outputs": [],
   "source": [
    "def transform_to_array(nested_field):\n",
    "    transformed = []\n",
    "    for element in nested_field:\n",
    "        \n",
    "        \n",
    "        "
   ]
  }
 ],
 "metadata": {
  "kernelspec": {
   "display_name": "Python (env)",
   "language": "python",
   "name": "env"
  },
  "language_info": {
   "codemirror_mode": {
    "name": "ipython",
    "version": 3
   },
   "file_extension": ".py",
   "mimetype": "text/x-python",
   "name": "python",
   "nbconvert_exporter": "python",
   "pygments_lexer": "ipython3",
   "version": "3.13.2"
  }
 },
 "nbformat": 4,
 "nbformat_minor": 5
}
