{
 "cells": [
  {
   "cell_type": "code",
   "execution_count": 25,
   "id": "4b7af862-a6df-4eee-96a4-8a202f0a3311",
   "metadata": {},
   "outputs": [],
   "source": [
    "from pyspark.sql import SparkSession\n",
    "from pyspark import SQLContext\n",
    "from pyspark.sql import functions as F\n",
    "from pyspark.sql import types as T\n",
    "from datetime import datetime\n",
    "from pyspark.sql.functions import col\n",
    "import pandas as pd"
   ]
  },
  {
   "cell_type": "code",
   "execution_count": 2,
   "id": "37249278-c8e6-4675-aa2a-3b907ca464ab",
   "metadata": {},
   "outputs": [
    {
     "name": "stderr",
     "output_type": "stream",
     "text": [
      "Setting default log level to \"WARN\".\n",
      "To adjust logging level use sc.setLogLevel(newLevel). For SparkR, use setLogLevel(newLevel).\n",
      "25/03/30 13:42:47 WARN NativeCodeLoader: Unable to load native-hadoop library for your platform... using builtin-java classes where applicable\n"
     ]
    }
   ],
   "source": [
    "  spark = SparkSession.builder \\\n",
    "    .appName(\"DataProcessing\") \\\n",
    "    .getOrCreate()"
   ]
  },
  {
   "cell_type": "code",
   "execution_count": 3,
   "id": "4172ec6c-a052-4350-ab1e-8768c5b3c259",
   "metadata": {},
   "outputs": [],
   "source": [
    "geometry_schema = T.StructType(\n",
    "      [\n",
    "        T.StructField(\"coordinates\", T.ArrayType(  \n",
    "            T.ArrayType(                         \n",
    "                T.ArrayType(T.DoubleType())        \n",
    "            )\n",
    "        ), True),\n",
    "        T.StructField(\"type\", T.StringType(), True),\n",
    "      ])"
   ]
  },
  {
   "cell_type": "code",
   "execution_count": 4,
   "id": "e8886d4c-b373-4527-8915-ee7bd823142b",
   "metadata": {},
   "outputs": [],
   "source": [
    "properties_schema = T.StructType([\n",
    "      # T.StructField(\"@id\", T.StringType(), True),\n",
    "      # T.StructField(\"@type\", T.StringType(), True),\n",
    "      T.StructField(\"affectedZones\", T.ArrayType(T.StringType()), True),\n",
    "      T.StructField(\"areaDesc\", T.StringType(), True),\n",
    "      T.StructField(\"category\", T.StringType(), True),\n",
    "      T.StructField(\"certainty\", T.StringType(), True),\n",
    "      T.StructField(\"description\", T.StringType(), True),\n",
    "      T.StructField(\"effective\", T.StringType(), True),\n",
    "      T.StructField(\"ends\", T.StringType(), True),\n",
    "      T.StructField(\"event\", T.StringType(), True),\n",
    "      T.StructField(\"expires\", T.StringType(), True),\n",
    "      # T.StructField(\"geocode\", T.StructType([\n",
    "      #     T.StructField(\"SAME\", T.ArrayType(T.StringType()), True),\n",
    "      #     T.StructField(\"UGC\", T.ArrayType(T.StringType()), True),\n",
    "      # ]), True),\n",
    "      T.StructField(\"headline\", T.StringType(), True),\n",
    "      T.StructField(\"id\", T.StringType(), True),\n",
    "      T.StructField(\"instruction\", T.StringType(), True),\n",
    "      T.StructField(\"messageType\", T.StringType(), True),\n",
    "      T.StructField(\"onset\", T.StringType(), True),\n",
    "      # T.StructField(\"parameters\", T.StructType([\n",
    "      #     T.StructField(\"AWIPSidentifier\", T.ArrayType(T.StringType()), True),\n",
    "      #     T.StructField(\"BLOCKCHANNEL\", T.ArrayType(T.StringType()), True),\n",
    "      #     T.StructField(\"CMAMlongtext\", T.ArrayType(T.StringType()), True),\n",
    "      #     T.StructField(\"CMAMtext\", T.ArrayType(T.StringType()), True),\n",
    "      #     T.StructField(\"EAS-ORG\", T.ArrayType(T.StringType()), True),\n",
    "      #     T.StructField(\"NWSheadline\", T.ArrayType(T.StringType()), True),\n",
    "      #     T.StructField(\"VTEC\", T.ArrayType(T.StringType()), True),\n",
    "      #     T.StructField(\"WEAHandling\", T.ArrayType(T.StringType()), True),\n",
    "      #     T.StructField(\"WMOidentifier\", T.ArrayType(T.StringType()), True),\n",
    "      #     T.StructField(\"eventEndingTime\", T.ArrayType(T.StringType()), True),\n",
    "      #     T.StructField(\"eventMotionDescription\", T.ArrayType(T.StringType()), True),\n",
    "      #     T.StructField(\"expiredReferences\", T.ArrayType(T.StringType()), True),\n",
    "      #     T.StructField(\"flashFloodDetection\", T.ArrayType(T.StringType()), True),\n",
    "      #     T.StructField(\"hailThreat\", T.ArrayType(T.StringType()), True),\n",
    "      #     T.StructField(\"maxHailSize\", T.ArrayType(T.StringType()), True),\n",
    "      #     T.StructField(\"maxWindGust\", T.ArrayType(T.StringType()), True),\n",
    "      #     T.StructField(\"thunderstormDamageThreat\", T.ArrayType(T.StringType()), True),\n",
    "      #     T.StructField(\"timezone\", T.ArrayType(T.StringType()), True),\n",
    "      #     T.StructField(\"tornadoDetection\", T.ArrayType(T.StringType()), True),\n",
    "      #     T.StructField(\"windThreat\", T.ArrayType(T.StringType()), True),\n",
    "      # ]), True),\n",
    "      # T.StructField(\"references\", T.ArrayType(T.StructType([\n",
    "      #     # T.StructField(\"@id\", T.StringType(), True),\n",
    "      #     T.StructField(\"identifier\", T.StringType(), True),\n",
    "      #     T.StructField(\"sender\", T.StringType(), True),\n",
    "      #     T.StructField(\"sent\", T.StringType(), True),\n",
    "      # ])), True),\n",
    "\n",
    "      T.StructField(\"replacedAt\", T.StringType(), True),\n",
    "      T.StructField(\"replacedBy\", T.StringType(), True),\n",
    "      T.StructField(\"response\", T.StringType(), True),\n",
    "      T.StructField(\"sender\", T.StringType(), True),\n",
    "      T.StructField(\"senderName\", T.StringType(), True),\n",
    "      T.StructField(\"sent\", T.StringType(), True),\n",
    "      T.StructField(\"severity\", T.StringType(), True),\n",
    "      T.StructField(\"status\", T.StringType(), True),\n",
    "      T.StructField(\"urgency\", T.StringType(), True),\n",
    "    ])"
   ]
  },
  {
   "cell_type": "code",
   "execution_count": 5,
   "id": "b7d71fc6-633b-4dde-b25c-821889704023",
   "metadata": {},
   "outputs": [],
   "source": [
    "  data_schema = T.StructType([\n",
    "      T.StructField(\"geometry\", geometry_schema, True),\n",
    "      T.StructField(\"id\", T.StringType(), True),\n",
    "      T.StructField(\"properties\", properties_schema, True),\n",
    "      T.StructField(\"type\", T.StringType(), True),\n",
    "  ])"
   ]
  },
  {
   "cell_type": "code",
   "execution_count": 96,
   "id": "10a141e4-26b4-4766-87b2-12349995bd0b",
   "metadata": {},
   "outputs": [],
   "source": [
    "  df = spark.read \\\n",
    "    .option(\"multiline\", \"true\") \\\n",
    "    .schema(data_schema) \\\n",
    "    .json(f\"data/raw_json/2025-03-30.json\")"
   ]
  },
  {
   "cell_type": "code",
   "execution_count": 16,
   "id": "2ead8d4e-8c4a-4025-b038-9bcb88f224e4",
   "metadata": {},
   "outputs": [],
   "source": [
    "\n",
    "def coords_to_wkt(geom_type, coords):\n",
    "    if geom_type == \"Polygon\":\n",
    "        # Flatten into \"x y, x y, ...\"\n",
    "        if coords and isinstance(coords, list):\n",
    "            rings = []\n",
    "            for ring in coords:\n",
    "                ring_str = \", \".join([f\"{lon} {lat}\" for lon, lat in ring])\n",
    "                rings.append(f\"({ring_str})\")\n",
    "            return f\"POLYGON({', '.join(rings)})\"\n",
    "    return None"
   ]
  },
  {
   "cell_type": "code",
   "execution_count": 17,
   "id": "2920f9ca-d56a-47de-b5de-cc0fabb4d1ca",
   "metadata": {},
   "outputs": [],
   "source": [
    "wkt_udf = F.udf(coords_to_wkt, T.StringType())"
   ]
  },
  {
   "cell_type": "code",
   "execution_count": 97,
   "id": "bedff274-1f5b-4781-b833-555828e5a07e",
   "metadata": {},
   "outputs": [],
   "source": [
    "alerts = df.select(\n",
    "    wkt_udf(\"geometry.type\", \"geometry.coordinates\").alias(\"geometry_wkt\"),\n",
    "    F.explode(col(\"properties.affectedZones\")).alias(\"affectedZones\"),\n",
    "    col(\"properties.areaDesc\").alias(\"areaDesc\"),\n",
    "    col(\"properties.category\").alias(\"category\"),\n",
    "    col(\"properties.certainty\").alias(\"certainty\"),\n",
    "    col(\"properties.description\").alias(\"description\"),\n",
    "    F.to_timestamp(col(\"properties.effective\")).alias(\"effective\"),\n",
    "    F.to_timestamp(col(\"properties.ends\")).alias(\"ends\"),\n",
    "    col(\"properties.event\").alias(\"event\"),\n",
    "    F.to_timestamp(col(\"properties.expires\")).alias(\"expires\"),\n",
    "    col(\"properties.headline\").alias(\"headline\"),\n",
    "    col(\"properties.id\").alias(\"alert_id\"),\n",
    "    col(\"properties.instruction\").alias(\"instruction\"),\n",
    "    col(\"properties.messageType\").alias(\"messageType\"),\n",
    "    col(\"properties.onset\").alias(\"onset\"),\n",
    "    F.to_timestamp(col(\"properties.replacedAt\")).alias(\"replacedAt\"),\n",
    "    col(\"properties.replacedBy\").alias(\"replacedBy\"),\n",
    "    col(\"properties.response\").alias(\"response\"),\n",
    "    col(\"properties.sender\").alias(\"sender\"),\n",
    "    col(\"properties.senderName\").alias(\"senderName\"),\n",
    "    F.to_timestamp(col(\"properties.sent\")).alias(\"sent\"),\n",
    "    col(\"properties.severity\").alias(\"severity\"),\n",
    "    col(\"properties.status\").alias(\"status\"),\n",
    "    col(\"properties.urgency\").alias(\"urgency\")\n",
    ")"
   ]
  },
  {
   "cell_type": "code",
   "execution_count": 107,
   "id": "fefc4fc1-f1cf-48d8-81c5-ea6073ea9103",
   "metadata": {},
   "outputs": [],
   "source": [
    "df = alerts.select(\n",
    "    F.md5(F.concat(F.coalesce(col('alert_id'),F.lit(\"\")),F.coalesce(col('affectedZones'),F.lit(\"\")))).alias(\"id\"),\n",
    "    \"*\"\n",
    ")"
   ]
  },
  {
   "cell_type": "code",
   "execution_count": 112,
   "id": "4672afb3-62dc-41ba-a756-b170f604f332",
   "metadata": {},
   "outputs": [
    {
     "name": "stdout",
     "output_type": "stream",
     "text": [
      "+--------------------+\n",
      "|                  id|\n",
      "+--------------------+\n",
      "|848d1742dcceda570...|\n",
      "|2918220fc489bfb4b...|\n",
      "|15ea353360c8b8c07...|\n",
      "|ca11d4cf9179c842d...|\n",
      "|3802610b3659a38e7...|\n",
      "|5d599a898835d1137...|\n",
      "|02c4337e91d6a9aee...|\n",
      "|1538552547309e586...|\n",
      "|fa5813b48bb092eb3...|\n",
      "|7d51e4ab8f8fe8ae0...|\n",
      "|08f8d89369c664832...|\n",
      "|bac574808e85c3a96...|\n",
      "|11cc82c468fd2d746...|\n",
      "|5ac449bc036c97d16...|\n",
      "|5b61850348423b72f...|\n",
      "|a8fc8932a2b7411c7...|\n",
      "|a3b1034a7c5e2eacf...|\n",
      "|febc86e73f071ed76...|\n",
      "|c8ddb2e17ffb12522...|\n",
      "|54567ea6a7e52dcd6...|\n",
      "+--------------------+\n",
      "only showing top 20 rows\n",
      "\n"
     ]
    }
   ],
   "source": []
  },
  {
   "cell_type": "code",
   "execution_count": 92,
   "id": "1f7847c9-a67f-4bfa-a880-05390d2a4233",
   "metadata": {},
   "outputs": [],
   "source": [
    "zone_properties_schema = T.StructType([\n",
    "    T.StructField(\"name\", T.StringType(), True),\n",
    "    T.StructField(\"state\", T.StringType(), True)\n",
    "    ])\n",
    "\n",
    "zone_data_schema = T.StructType([\n",
    "    T.StructField(\"id\", T.StringType(), True),\n",
    "    T.StructField(\"properties\", zone_properties_schema, True)\n",
    "    ])"
   ]
  },
  {
   "cell_type": "code",
   "execution_count": 93,
   "id": "bac33952-6a4e-44a4-bb25-787a45347e36",
   "metadata": {},
   "outputs": [],
   "source": [
    "zone = spark.read \\\n",
    "    .option(\"multiline\", \"true\") \\\n",
    "    .schema(zone_data_schema) \\\n",
    "    .json(\"data/zones.json\")"
   ]
  },
  {
   "cell_type": "code",
   "execution_count": 94,
   "id": "86412fe3-655c-4edc-8cf0-cf7c81c7cc55",
   "metadata": {},
   "outputs": [],
   "source": [
    "zone = zone \\\n",
    "    .withColumn('name', col('properties.name')) \\\n",
    "    .withColumn('state', col('properties.state')) \\\n",
    "    .drop('properties')"
   ]
  },
  {
   "cell_type": "code",
   "execution_count": 99,
   "id": "b934bb46-5ac6-4aed-9bfc-0d4bd99018e4",
   "metadata": {},
   "outputs": [],
   "source": [
    "joined = alerts\n",
    "    .join(zone, alerts[\"affectedZones\"] == zone[\"id\"], \"left\") \\\n",
    "    ."
   ]
  },
  {
   "cell_type": "code",
   "execution_count": 100,
   "id": "e09e67bf-1e0e-4ea5-b589-3d8ca6702bbd",
   "metadata": {},
   "outputs": [
    {
     "name": "stdout",
     "output_type": "stream",
     "text": [
      "root\n",
      " |-- geometry_wkt: string (nullable = true)\n",
      " |-- affectedZones: string (nullable = true)\n",
      " |-- areaDesc: string (nullable = true)\n",
      " |-- category: string (nullable = true)\n",
      " |-- certainty: string (nullable = true)\n",
      " |-- description: string (nullable = true)\n",
      " |-- effective: timestamp (nullable = true)\n",
      " |-- ends: timestamp (nullable = true)\n",
      " |-- event: string (nullable = true)\n",
      " |-- expires: timestamp (nullable = true)\n",
      " |-- headline: string (nullable = true)\n",
      " |-- alert_id: string (nullable = true)\n",
      " |-- instruction: string (nullable = true)\n",
      " |-- messageType: string (nullable = true)\n",
      " |-- onset: string (nullable = true)\n",
      " |-- replacedAt: timestamp (nullable = true)\n",
      " |-- replacedBy: string (nullable = true)\n",
      " |-- response: string (nullable = true)\n",
      " |-- sender: string (nullable = true)\n",
      " |-- senderName: string (nullable = true)\n",
      " |-- sent: timestamp (nullable = true)\n",
      " |-- severity: string (nullable = true)\n",
      " |-- status: string (nullable = true)\n",
      " |-- urgency: string (nullable = true)\n",
      " |-- id: string (nullable = true)\n",
      " |-- name: string (nullable = true)\n",
      " |-- state: string (nullable = true)\n",
      "\n"
     ]
    }
   ],
   "source": [
    "joined.printSchema()"
   ]
  },
  {
   "cell_type": "code",
   "execution_count": null,
   "id": "ded656ce-994a-4fd2-a5b9-2e96e79de98e",
   "metadata": {},
   "outputs": [],
   "source": []
  }
 ],
 "metadata": {
  "kernelspec": {
   "display_name": "Python (env)",
   "language": "python",
   "name": "env"
  },
  "language_info": {
   "codemirror_mode": {
    "name": "ipython",
    "version": 3
   },
   "file_extension": ".py",
   "mimetype": "text/x-python",
   "name": "python",
   "nbconvert_exporter": "python",
   "pygments_lexer": "ipython3",
   "version": "3.13.2"
  }
 },
 "nbformat": 4,
 "nbformat_minor": 5
}
